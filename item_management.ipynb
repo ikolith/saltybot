{
 "metadata": {
  "language_info": {
   "codemirror_mode": {
    "name": "ipython",
    "version": 3
   },
   "file_extension": ".py",
   "mimetype": "text/x-python",
   "name": "python",
   "nbconvert_exporter": "python",
   "pygments_lexer": "ipython3",
   "version": "3.7.7-final"
  },
  "orig_nbformat": 2,
  "kernelspec": {
   "name": "python_defaultSpec_1600805409045",
   "display_name": "Python 3.7.7 32-bit ('saltbot_venv': venv)"
  }
 },
 "nbformat": 4,
 "nbformat_minor": 2,
 "cells": [
  {
   "cell_type": "code",
   "execution_count": 22,
   "metadata": {},
   "outputs": [],
   "source": [
    "import discord\n",
    "import sqlite3\n",
    "import os\n",
    "import asyncio\n",
    "from random import randint"
   ]
  },
  {
   "cell_type": "code",
   "execution_count": 23,
   "metadata": {},
   "outputs": [],
   "source": [
    "db = sqlite3.connect(\"database.sqlite3\") # we have just one of these for the whole program, since we don't need to share state with other processes or anything\n",
    "cursor = db.cursor() # we have just one of these for the whole program, since we don't need to share state with other processes or anything\n",
    "\n",
    "def query(query, values_to_substitute_in = ()):\n",
    "    cursor.execute(query, values_to_substitute_in)\n",
    "    db.commit() # commit any changes to the database file\n",
    "    return cursor.fetchall() # return a list of all our findings\n",
    "\n",
    "#this isnt called in the code itself, its here to help me \n",
    "# create items quickly\n",
    "def create_item(item_type,description, price, image_name):\n",
    "    query('''INSERT INTO items (item_type, description, price, image_name) VALUES(?,?,?,?)''',(str(item_type),str(description),int(price),str(image_name)))\n"
   ]
  },
  {
   "cell_type": "code",
   "execution_count": 24,
   "metadata": {},
   "outputs": [],
   "source": [
    "create_item('pickaxe','Your standard no-frills good old boy pickaxe, just like momma used to make',35,'standard_pick.png')   "
   ]
  },
  {
   "cell_type": "code",
   "execution_count": 25,
   "metadata": {},
   "outputs": [],
   "source": [
    "create_item('salt rock','A good source of vitamins and minerals.',5,'salt_rock.png')"
   ]
  },
  {
   "cell_type": "code",
   "execution_count": 26,
   "metadata": {},
   "outputs": [],
   "source": [
    "create_item('salt',\"It makes the world go 'round.\",1,'salt.png')"
   ]
  },
  {
   "cell_type": "code",
   "execution_count": 51,
   "metadata": {
    "tags": []
   },
   "outputs": [
    {
     "output_type": "stream",
     "name": "stdout",
     "text": "[(42,)]\n1\n"
    }
   ],
   "source": [
    "x = query('SELECT discord_id FROM players')\n",
    "print(x)\n",
    "print(len(x[0]))"
   ]
  },
  {
   "cell_type": "code",
   "execution_count": 53,
   "metadata": {
    "tags": []
   },
   "outputs": [
    {
     "output_type": "stream",
     "name": "stdout",
     "text": "[('pickaxe',), ('salt rock',), ('salt',)]\n"
    }
   ],
   "source": [
    "y = query('SELECT item_type FROM items')\n",
    "print(y)"
   ]
  },
  {
   "cell_type": "code",
   "execution_count": null,
   "metadata": {},
   "outputs": [],
   "source": []
  }
 ]
}